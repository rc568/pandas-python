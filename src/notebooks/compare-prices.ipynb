{
 "cells": [
  {
   "cell_type": "code",
   "execution_count": 1,
   "id": "e2d365ae",
   "metadata": {},
   "outputs": [],
   "source": [
    "import pandas as pd\n",
    "\n",
    "df_turso = pd.read_csv('../data/csv-from-turso/products.csv', index_col='codigo')\n",
    "\n",
    "df_gastos = pd.read_excel('../data/GASTOS-MANDRIL-06082025.xlsm', sheet_name='LISTA', header=0, index_col='Código')\n",
    "filter_valid_code = df_gastos.index.str.match(pat=\"^MI(\\d{3})$\", na=False)\n",
    "df_gastos.drop(index=df_gastos[~filter_valid_code].index, inplace=True)"
   ]
  },
  {
   "cell_type": "code",
   "execution_count": 2,
   "id": "790ee7f9",
   "metadata": {},
   "outputs": [
    {
     "data": {
      "text/html": [
       "<div>\n",
       "<style scoped>\n",
       "    .dataframe tbody tr th:only-of-type {\n",
       "        vertical-align: middle;\n",
       "    }\n",
       "\n",
       "    .dataframe tbody tr th {\n",
       "        vertical-align: top;\n",
       "    }\n",
       "\n",
       "    .dataframe thead th {\n",
       "        text-align: right;\n",
       "    }\n",
       "</style>\n",
       "<table border=\"1\" class=\"dataframe\">\n",
       "  <thead>\n",
       "    <tr style=\"text-align: right;\">\n",
       "      <th></th>\n",
       "      <th>Precio Web</th>\n",
       "      <th>Precio Gastos</th>\n",
       "    </tr>\n",
       "  </thead>\n",
       "  <tbody>\n",
       "    <tr>\n",
       "      <th>MI167</th>\n",
       "      <td>50.0</td>\n",
       "      <td>NaN</td>\n",
       "    </tr>\n",
       "    <tr>\n",
       "      <th>MI168</th>\n",
       "      <td>50.0</td>\n",
       "      <td>NaN</td>\n",
       "    </tr>\n",
       "    <tr>\n",
       "      <th>MI169</th>\n",
       "      <td>70.0</td>\n",
       "      <td>NaN</td>\n",
       "    </tr>\n",
       "    <tr>\n",
       "      <th>MI386</th>\n",
       "      <td>47.0</td>\n",
       "      <td>40.0</td>\n",
       "    </tr>\n",
       "    <tr>\n",
       "      <th>MI217</th>\n",
       "      <td>NaN</td>\n",
       "      <td>15.0</td>\n",
       "    </tr>\n",
       "    <tr>\n",
       "      <th>MI219</th>\n",
       "      <td>NaN</td>\n",
       "      <td>25.0</td>\n",
       "    </tr>\n",
       "    <tr>\n",
       "      <th>MI218</th>\n",
       "      <td>NaN</td>\n",
       "      <td>20.0</td>\n",
       "    </tr>\n",
       "  </tbody>\n",
       "</table>\n",
       "</div>"
      ],
      "text/plain": [
       "       Precio Web  Precio Gastos\n",
       "MI167        50.0            NaN\n",
       "MI168        50.0            NaN\n",
       "MI169        70.0            NaN\n",
       "MI386        47.0           40.0\n",
       "MI217         NaN           15.0\n",
       "MI219         NaN           25.0\n",
       "MI218         NaN           20.0"
      ]
     },
     "execution_count": 2,
     "metadata": {},
     "output_type": "execute_result"
    }
   ],
   "source": [
    "df_compare_prices = pd.concat([df_turso['precioVenta'], df_gastos['Precio Venta']], axis=1)\n",
    "df_compare_prices.rename(columns={'Precio Venta': 'Precio Gastos', 'precioVenta': 'Precio Web' }, inplace=True)\n",
    "equal_prices = (df_compare_prices['Precio Gastos'] == df_compare_prices['Precio Web'])\n",
    "df_compare_prices.loc[~equal_prices]"
   ]
  },
  {
   "cell_type": "code",
   "execution_count": null,
   "id": "298fc5a1",
   "metadata": {},
   "outputs": [],
   "source": []
  }
 ],
 "metadata": {
  "kernelspec": {
   "display_name": "xlsx-to-json (3.10.11)",
   "language": "python",
   "name": "python3"
  },
  "language_info": {
   "codemirror_mode": {
    "name": "ipython",
    "version": 3
   },
   "file_extension": ".py",
   "mimetype": "text/x-python",
   "name": "python",
   "nbconvert_exporter": "python",
   "pygments_lexer": "ipython3",
   "version": "3.10.11"
  }
 },
 "nbformat": 4,
 "nbformat_minor": 5
}
